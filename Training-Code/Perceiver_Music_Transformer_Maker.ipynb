{
  "cells": [
    {
      "cell_type": "markdown",
      "metadata": {
        "id": "VGrGd6__l5ch"
      },
      "source": [
        "# Perceiver Music Transformer Maker (ver. 0.5)\n",
        "\n",
        "***\n",
        "\n",
        "Powered by tegridy-tools: https://github.com/asigalov61/tegridy-tools\n",
        "\n",
        "***\n",
        "\n",
        "WARNING: This complete implementation is a functioning model of the Artificial Intelligence. Please excercise great humility, care, and respect. https://www.nscai.gov/\n",
        "\n",
        "***\n",
        "\n",
        "#### Project Los Angeles\n",
        "\n",
        "#### Tegridy Code 2023\n",
        "\n",
        "***"
      ]
    },
    {
      "cell_type": "markdown",
      "metadata": {
        "id": "shLrgoXdl5cj"
      },
      "source": [
        "# GPU check"
      ]
    },
    {
      "cell_type": "code",
      "execution_count": null,
      "metadata": {
        "id": "X3rABEpKCO02"
      },
      "outputs": [],
      "source": [
        "!nvidia-smi"
      ]
    },
    {
      "cell_type": "markdown",
      "metadata": {
        "id": "0RcVC4btl5ck"
      },
      "source": [
        "# Setup environment"
      ]
    },
    {
      "cell_type": "code",
      "execution_count": null,
      "metadata": {
        "id": "viHgEaNACPTs"
      },
      "outputs": [],
      "source": [
        "!git clone https://github.com/asigalov61/tegridy-tools"
      ]
    },
    {
      "cell_type": "code",
      "execution_count": null,
      "metadata": {
        "id": "vK40g6V_BTNj"
      },
      "outputs": [],
      "source": [
        "!pip install torch\n",
        "!pip install einops\n",
        "!pip install torch-summary\n",
        "!pip install sklearn\n",
        "!pip install tqdm\n",
        "!pip install matplotlib"
      ]
    },
    {
      "cell_type": "code",
      "execution_count": null,
      "metadata": {
        "id": "DzCOZU_gBiQV"
      },
      "outputs": [],
      "source": [
        "# Load modules and make data dir\n",
        "\n",
        "print('Loading modules...')\n",
        "\n",
        "import os\n",
        "import pickle\n",
        "import random\n",
        "import secrets\n",
        "import tqdm\n",
        "\n",
        "import torch\n",
        "import torch.optim as optim\n",
        "from torch.utils.data import DataLoader, Dataset\n",
        "\n",
        "import matplotlib.pyplot as plt\n",
        "\n",
        "from torchsummary import summary\n",
        "from sklearn import metrics\n",
        "\n",
        "%cd /content/tegridy-tools/tegridy-tools/\n",
        "\n",
        "import TMIDIX\n",
        "\n",
        "%cd /content/tegridy-tools/tegridy-tools/Perceiver-AR\n",
        "\n",
        "from perceiver_ar_pytorch_full import PerceiverAR, AutoregressiveWrapper\n",
        "\n",
        "%cd /content/\n",
        "\n",
        "if not os.path.exists('/content/INTS'):\n",
        "    os.makedirs('/content/INTS')\n",
        "\n",
        "print('Done')"
      ]
    },
    {
      "cell_type": "markdown",
      "metadata": {
        "id": "Sbhzy8FGl5cm"
      },
      "source": [
        "# Load training data"
      ]
    },
    {
      "cell_type": "code",
      "execution_count": null,
      "metadata": {
        "id": "6Ujn-SVVChZV"
      },
      "outputs": [],
      "source": [
        "# Load training data\n",
        "\n",
        "dataset_addr = \"/content/INTS\"\n",
        "\n",
        "filez = list()\n",
        "for (dirpath, dirnames, filenames) in os.walk(dataset_addr):\n",
        "    filez += [os.path.join(dirpath, file) for file in filenames]\n",
        "print('=' * 70)\n",
        "\n",
        "filez.sort()\n",
        "\n",
        "print('Loading training data... Please wait...')\n",
        "\n",
        "train_data = torch.Tensor([0, 0, 0, 0]) # Quick dirty hack to offset the training data for proper loading\n",
        "\n",
        "for f in tqdm.tqdm(filez):\n",
        "    train_data = torch.cat((train_data, torch.Tensor(pickle.load(open(f, 'rb')))))\n",
        "    print('Loaded file:', f)\n",
        "    \n",
        "print('Done!')"
      ]
    },
    {
      "cell_type": "code",
      "execution_count": null,
      "metadata": {
        "id": "LtHSA8MeCpGU"
      },
      "outputs": [],
      "source": [
        "len(train_data)"
      ]
    },
    {
      "cell_type": "code",
      "execution_count": null,
      "metadata": {
        "id": "yEAzcHWMMjq1"
      },
      "outputs": [],
      "source": [
        "((len(train_data) // 6144 // 32) * 32) / 32"
      ]
    },
    {
      "cell_type": "code",
      "execution_count": null,
      "metadata": {
        "id": "NLg-NI2BCrtQ"
      },
      "outputs": [],
      "source": [
        "train_data[:15], train_data[-15:]"
      ]
    },
    {
      "cell_type": "markdown",
      "metadata": {
        "id": "VhZqBvqVl5cn"
      },
      "source": [
        "# Setup model"
      ]
    },
    {
      "cell_type": "code",
      "execution_count": null,
      "metadata": {
        "id": "6MPxk8PFCtJ1"
      },
      "outputs": [],
      "source": [
        "# Setup model\n",
        "\n",
        "# constants\n",
        "\n",
        "SEQ_LEN = 6144 # 6k\n",
        "PREFIX_SEQ_LEN = 4096 # 4k\n",
        "BATCH_SIZE = 32\n",
        "\n",
        "GRADIENT_ACCUMULATE_EVERY = 1\n",
        "\n",
        "# We going to train for 1 full epoch because we are using consequtive sampling.\n",
        "# Number of steps will be calculated based on the training data length.\n",
        "\n",
        "NUM_BATCHES = (len(train_data) // SEQ_LEN // BATCH_SIZE // GRADIENT_ACCUMULATE_EVERY)\n",
        "\n",
        "LEARNING_RATE = 2e-4\n",
        "\n",
        "VALIDATE_EVERY  = 100\n",
        "SAVE_EVERY = 1000\n",
        "GENERATE_EVERY  = 200\n",
        "PRINT_STATS_EVERY = 50\n",
        "\n",
        "GENERATE_LENGTH = 32\n",
        "\n",
        "# helpers\n",
        "\n",
        "def cycle(loader):\n",
        "    while True:\n",
        "        for data in loader:\n",
        "            yield data\n",
        "\n",
        "# instantiate model\n",
        "\n",
        "model = PerceiverAR(\n",
        "    num_tokens = 2145,\n",
        "    dim = 1024,\n",
        "    depth = 32,\n",
        "    ff_mult=2,\n",
        "    cross_attn_dropout = 0.25,\n",
        "    max_seq_len = SEQ_LEN,\n",
        "    cross_attn_seq_len = PREFIX_SEQ_LEN\n",
        ")\n",
        "\n",
        "model = AutoregressiveWrapper(model)\n",
        "\n",
        "model = torch.nn.DataParallel(model)\n",
        "\n",
        "model.cuda()\n",
        "\n",
        "print('Done!')\n",
        "      \n",
        "summary(model)\n",
        "\n",
        "# Dataloader\n",
        "\n",
        "class MusicDataset(Dataset):\n",
        "    def __init__(self, data, seq_len):\n",
        "        super().__init__()\n",
        "        self.data = data\n",
        "        self.seq_len = seq_len\n",
        "\n",
        "    def __getitem__(self, index):\n",
        "        \n",
        "        # consequtive sampling\n",
        "        idx = index * self.seq_len\n",
        "   \n",
        "        full_seq = self.data[idx: idx + self.seq_len + 1].long()\n",
        "        \n",
        "        return full_seq.cuda()\n",
        "\n",
        "    def __len__(self):\n",
        "        return (self.data.size(0) // self.seq_len // BATCH_SIZE) * BATCH_SIZE\n",
        "\n",
        "train_dataset = MusicDataset(train_data, SEQ_LEN)\n",
        "val_dataset   = MusicDataset(train_data, SEQ_LEN)\n",
        "train_loader  = cycle(DataLoader(train_dataset, batch_size = BATCH_SIZE))\n",
        "val_loader    = cycle(DataLoader(val_dataset, batch_size = BATCH_SIZE))\n",
        "\n",
        "# optimizer\n",
        "\n",
        "optim = torch.optim.Adam(model.parameters(), lr=LEARNING_RATE)"
      ]
    },
    {
      "cell_type": "code",
      "execution_count": null,
      "metadata": {
        "id": "B52fOi3Rok15"
      },
      "outputs": [],
      "source": [
        "train_dataset[666]"
      ]
    },
    {
      "cell_type": "code",
      "execution_count": null,
      "metadata": {
        "id": "ooaXGDhPMjq3"
      },
      "outputs": [],
      "source": [
        "len(DataLoader(val_dataset, batch_size = BATCH_SIZE))"
      ]
    },
    {
      "cell_type": "markdown",
      "metadata": {
        "id": "xJPxxFiwl5cn"
      },
      "source": [
        "# Train"
      ]
    },
    {
      "cell_type": "code",
      "execution_count": null,
      "metadata": {
        "id": "JgTifRdrCxUU"
      },
      "outputs": [],
      "source": [
        "# Train the model\n",
        "\n",
        "train_losses = []\n",
        "val_losses = []\n",
        "\n",
        "train_accs = []\n",
        "val_accs = []\n",
        "\n",
        "for i in tqdm.tqdm(range(NUM_BATCHES), mininterval=10., desc='Training'):\n",
        "    model.train()\n",
        "\n",
        "    for __ in range(GRADIENT_ACCUMULATE_EVERY):\n",
        "        loss, acc = model(next(train_loader))\n",
        "        loss.backward(torch.ones(loss.shape).cuda())\n",
        "        \n",
        "    if i % PRINT_STATS_EVERY == 0:\n",
        "        print(f'Training loss: {loss.mean().item()}')\n",
        "        print(f'Training acc: {acc.mean().item()}')\n",
        "    \n",
        "    train_losses.append(loss.mean().item())\n",
        "    train_accs.append(acc.mean().item())\n",
        "    \n",
        "    torch.nn.utils.clip_grad_norm_(model.parameters(), 0.5)\n",
        "    optim.step()\n",
        "    optim.zero_grad()\n",
        "\n",
        "    if i % VALIDATE_EVERY == 0:\n",
        "        model.eval()\n",
        "        with torch.no_grad():\n",
        "            val_loss, val_acc = model(next(val_loader))\n",
        "            \n",
        "            print(f'Validation loss: {val_loss.mean().item()}')\n",
        "            print(f'Validation acc: {val_acc.mean().item()}')\n",
        "            \n",
        "            val_losses.append(val_loss.mean().item())\n",
        "            val_accs.append(val_acc.mean().item())\n",
        "            \n",
        "            print('Plotting training loss graph...')\n",
        "            \n",
        "            tr_loss_list = train_losses\n",
        "            plt.plot([i for i in range(len(tr_loss_list))] ,tr_loss_list, 'b')\n",
        "            plt.show()\n",
        "            plt.close()\n",
        "            print('Done!')\n",
        "            \n",
        "            print('Plotting training acc graph...')\n",
        "            \n",
        "            tr_loss_list = train_accs\n",
        "            plt.plot([i for i in range(len(tr_loss_list))] ,tr_loss_list, 'b')\n",
        "            plt.show()\n",
        "            plt.close()\n",
        "            print('Done!')\n",
        "            \n",
        "            print('Plotting validation loss graph...')\n",
        "            tr_loss_list = val_losses\n",
        "            plt.plot([i for i in range(len(tr_loss_list))] ,tr_loss_list, 'b')\n",
        "            plt.show()\n",
        "            plt.close()\n",
        "            print('Done!')\n",
        "            \n",
        "            print('Plotting validation acc graph...')\n",
        "            tr_loss_list = val_accs\n",
        "            plt.plot([i for i in range(len(tr_loss_list))] ,tr_loss_list, 'b')\n",
        "            plt.show()\n",
        "            plt.close()\n",
        "            print('Done!')\n",
        "\n",
        "    if i % GENERATE_EVERY == 0:\n",
        "        model.eval()\n",
        "        inp = random.choice(val_dataset)[:-1]\n",
        "        \n",
        "        print(inp)\n",
        "\n",
        "        sample = model.module.generate(inp[None, ...], GENERATE_LENGTH)\n",
        "        \n",
        "        print(sample)\n",
        "        \n",
        "    if i % SAVE_EVERY == 0:\n",
        "        \n",
        "        print('Saving model progress. Please wait...')\n",
        "        print('model_checkpoint_' + str(i) + '_steps_' + str(round(float(train_losses[-1]), 4)) + '_loss.pth')\n",
        "        \n",
        "        fname = '/content/model_checkpoint_'  + str(i) + '_steps_' + str(round(float(train_losses[-1]), 4)) + '_loss.pth'\n",
        "        \n",
        "        torch.save(model.state_dict(), fname)\n",
        "        \n",
        "        data = [train_losses, train_accs, val_losses, val_accs]\n",
        "\n",
        "        TMIDIX.Tegridy_Any_Pickle_File_Writer(data, '/content/losses_accs')\n",
        "        \n",
        "        print('Done!')      "
      ]
    },
    {
      "cell_type": "markdown",
      "metadata": {
        "id": "wBkMH2gWl5co"
      },
      "source": [
        "# Final Save"
      ]
    },
    {
      "cell_type": "code",
      "execution_count": null,
      "metadata": {
        "id": "k1ba3J9fIYOV"
      },
      "outputs": [],
      "source": [
        "print('Saving model progress. Please wait...')\n",
        "print('model_checkpoint_' + str(i) + '_steps_' + str(round(float(train_losses[-1]), 4)) + '_loss.pth')\n",
        "\n",
        "fname = '/content/model_checkpoint_'  + str(i) + '_steps_' + str(round(float(train_losses[-1]), 4)) + '_loss.pth'\n",
        "\n",
        "torch.save(model.state_dict(), fname)\n",
        "\n",
        "print('Done!')   "
      ]
    },
    {
      "cell_type": "code",
      "execution_count": null,
      "metadata": {
        "id": "4vE5Z15fCz1M"
      },
      "outputs": [],
      "source": [
        "# Save training loss graph\n",
        "\n",
        "plt.plot([i for i in range(len(train_losses))] ,train_losses, 'b')\n",
        "plt.savefig('/content/training_loss_graph.png')\n",
        "plt.close()\n",
        "print('Done!')\n",
        "\n",
        "# Save training acc graph\n",
        "\n",
        "plt.plot([i for i in range(len(train_accs))] ,train_accs, 'b')\n",
        "plt.savefig('/content/training_acc_graph.png')\n",
        "plt.close()\n",
        "print('Done!')\n",
        "\n",
        "# Save validation loss graph\n",
        "\n",
        "plt.plot([i for i in range(len(val_losses))] ,val_losses, 'b')\n",
        "plt.savefig('/content/validation_loss_graph.png')\n",
        "plt.close()\n",
        "print('Done!')\n",
        "\n",
        "# Save validation acc graph\n",
        "\n",
        "plt.plot([i for i in range(len(val_accs))] ,val_accs, 'b')\n",
        "plt.savefig('/content/validation_acc_graph.png')\n",
        "plt.close()\n",
        "print('Done!')"
      ]
    },
    {
      "cell_type": "code",
      "execution_count": null,
      "metadata": {
        "id": "NtP5I-h0l5cp"
      },
      "outputs": [],
      "source": [
        "data = [train_losses, train_accs, val_losses, val_accs]\n",
        "\n",
        "TMIDIX.Tegridy_Any_Pickle_File_Writer(data, '/content/losses_accs')"
      ]
    },
    {
      "cell_type": "markdown",
      "source": [
        "# Eval"
      ],
      "metadata": {
        "id": "MMUwfwCQODXo"
      }
    },
    {
      "cell_type": "code",
      "execution_count": null,
      "metadata": {
        "id": "9HOVTJQ0u_tg"
      },
      "outputs": [],
      "source": [
        "model.eval()\n",
        "inp = [random.choice(val_dataset)[:4164].tolist()]\n",
        "\n",
        "inp = torch.LongTensor(inp).cuda()\n",
        "\n",
        "print(inp)\n",
        "\n",
        "sample = model.module.generate(inp, 512, temperature=0.8, return_prime=False)\n",
        "\n",
        "print(sample)"
      ]
    },
    {
      "cell_type": "code",
      "execution_count": null,
      "metadata": {
        "id": "ySxbIG_jMjq6"
      },
      "outputs": [],
      "source": [
        "#@title Convert to MIDI\n",
        "\n",
        "train_data1 = sample[0].tolist()\n",
        "\n",
        "print('Sample INTs', train_data1[:15])\n",
        "\n",
        "out = train_data1[:200000]\n",
        "\n",
        "if len(out) != 0:\n",
        "    \n",
        "    song = out\n",
        "    song_f = []\n",
        "    time = 0\n",
        "    dur = 0\n",
        "    vel = 0\n",
        "    pitch = 0\n",
        "    channel = 0\n",
        "                    \n",
        "    for ss in song:\n",
        "      \n",
        "      if ss > 0 and ss < 256:\n",
        "\n",
        "          time += ss * 8\n",
        "        \n",
        "      if ss >= 256 and ss < 512:\n",
        "\n",
        "          dur = (ss-256) * 16\n",
        "\n",
        "      if ss >= 512 and ss < 608:\n",
        "\n",
        "          channel = (ss-512) // 8\n",
        "          vel = (((ss-512) % 8)+1) * 15\n",
        "              \n",
        "      if ss >= 608 and ss < 608+(12*128):\n",
        "          \n",
        "          pitch = (ss-608) % 128\n",
        "\n",
        "          song_f.append(['note', time, dur, channel, pitch, vel ])\n",
        "            \n",
        "    detailed_stats = TMIDIX.Tegridy_SONG_to_MIDI_Converter(song_f,\n",
        "                                                        output_signature = 'Perceiver Music Transformer',  \n",
        "                                                        output_file_name = '/content/Perceiver-Music-Transformer-Music-Composition', \n",
        "                                                        track_name='Project Los Angeles',\n",
        "                                                        list_of_MIDI_patches=[0, 24, 32, 40, 42, 46, 56, 71, 73, 0, 53, 19, 0, 0, 0, 0],\n",
        "                                                        number_of_ticks_per_quarter=500)\n",
        "\n",
        "    print('Done!')"
      ]
    },
    {
      "cell_type": "markdown",
      "metadata": {
        "id": "z87TlDTVl5cp"
      },
      "source": [
        "# Congrats! You did it! :)"
      ]
    }
  ],
  "metadata": {
    "accelerator": "GPU",
    "colab": {
      "private_outputs": true,
      "provenance": []
    },
    "gpuClass": "premium",
    "kernelspec": {
      "display_name": "Python 3",
      "language": "python",
      "name": "python3"
    },
    "language_info": {
      "codemirror_mode": {
        "name": "ipython",
        "version": 3
      },
      "file_extension": ".py",
      "mimetype": "text/x-python",
      "name": "python",
      "nbconvert_exporter": "python",
      "pygments_lexer": "ipython3",
      "version": "3.8.10"
    }
  },
  "nbformat": 4,
  "nbformat_minor": 0
}
