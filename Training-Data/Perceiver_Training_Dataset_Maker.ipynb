{
  "cells": [
    {
      "cell_type": "markdown",
      "metadata": {
        "gradient": {
          "editing": false,
          "id": "ac5a4cf0-d9d2-47b5-9633-b53f8d99a4d2",
          "kernelId": ""
        },
        "id": "SiTIpPjArIyr"
      },
      "source": [
        "# Perceiver Training Dataset Maker (ver. 1.0)\n",
        "\n",
        "***\n",
        "\n",
        "Powered by tegridy-tools: https://github.com/asigalov61/tegridy-tools\n",
        "\n",
        "***\n",
        "\n",
        "#### Project Los Angeles\n",
        "\n",
        "#### Tegridy Code 2023\n",
        "\n",
        "***"
      ]
    },
    {
      "cell_type": "markdown",
      "metadata": {
        "gradient": {
          "editing": false,
          "id": "fa0a611c-1803-42ae-bdf6-a49b5a4e781b",
          "kernelId": ""
        },
        "id": "gOd93yV0sGd2"
      },
      "source": [
        "# (SETUP ENVIRONMENT)"
      ]
    },
    {
      "cell_type": "code",
      "execution_count": null,
      "metadata": {
        "cellView": "form",
        "gradient": {
          "editing": false,
          "id": "a1a45a91-d909-4fd4-b67a-5e16b971d179",
          "kernelId": ""
        },
        "id": "fX12Yquyuihc"
      },
      "outputs": [],
      "source": [
        "#@title Install all dependencies (run only once per session)\n",
        "\n",
        "!git clone https://github.com/asigalov61/tegridy-tools\n",
        "!pip install tqdm"
      ]
    },
    {
      "cell_type": "code",
      "execution_count": null,
      "metadata": {
        "cellView": "form",
        "gradient": {
          "editing": false,
          "id": "b8207b76-9514-4c07-95db-95a4742e52c5",
          "kernelId": ""
        },
        "id": "z7n9vnKmug1J"
      },
      "outputs": [],
      "source": [
        "#@title Import all needed modules\n",
        "\n",
        "print('Loading needed modules. Please wait...')\n",
        "import os\n",
        "\n",
        "import math\n",
        "import statistics\n",
        "import random\n",
        "\n",
        "from tqdm import tqdm\n",
        "\n",
        "if not os.path.exists('/content/Dataset'):\n",
        "    os.makedirs('/content/Dataset')\n",
        "\n",
        "print('Loading TMIDIX module...')\n",
        "os.chdir('/content/tegridy-tools/tegridy-tools')\n",
        "\n",
        "import TMIDIX\n",
        "\n",
        "print('Done!')\n",
        "\n",
        "os.chdir('/content/')\n",
        "print('Enjoy! :)')"
      ]
    },
    {
      "cell_type": "markdown",
      "metadata": {
        "gradient": {
          "editing": false,
          "id": "20b8698a-0b4e-4fdb-ae49-24d063782e77",
          "kernelId": ""
        },
        "id": "ObPxlEutsQBj"
      },
      "source": [
        "# (DOWNLOAD SOURCE MIDI DATASET)"
      ]
    },
    {
      "cell_type": "code",
      "source": [
        "#@title Download original LAKH MIDI Dataset\n",
        "\n",
        "%cd /content/Dataset/\n",
        "\n",
        "!wget 'http://hog.ee.columbia.edu/craffel/lmd/lmd_full.tar.gz'\n",
        "!tar -xvf 'lmd_full.tar.gz'\n",
        "!rm 'lmd_full.tar.gz'\n",
        "\n",
        "%cd /content/"
      ],
      "metadata": {
        "cellView": "form",
        "id": "7aItlhq9cRxZ"
      },
      "execution_count": null,
      "outputs": []
    },
    {
      "cell_type": "code",
      "execution_count": null,
      "metadata": {
        "cellView": "form",
        "id": "S69mWHAcn5Bg"
      },
      "outputs": [],
      "source": [
        "#@title Mount Google Drive\n",
        "from google.colab import drive\n",
        "drive.mount('/content/drive')"
      ]
    },
    {
      "cell_type": "markdown",
      "metadata": {
        "id": "JwrqQeie08t0"
      },
      "source": [
        "# (FILE LIST)"
      ]
    },
    {
      "cell_type": "code",
      "execution_count": null,
      "metadata": {
        "cellView": "form",
        "id": "DuVWtdDNcqKh"
      },
      "outputs": [],
      "source": [
        "#@title Save file list\n",
        "###########\n",
        "\n",
        "print('Loading MIDI files...')\n",
        "print('This may take a while on a large dataset in particular.')\n",
        "\n",
        "dataset_addr = \"/content/Dataset\"\n",
        "# os.chdir(dataset_addr)\n",
        "filez = list()\n",
        "for (dirpath, dirnames, filenames) in os.walk(dataset_addr):\n",
        "    filez += [os.path.join(dirpath, file) for file in filenames]\n",
        "print('=' * 70)\n",
        "\n",
        "if filez == []:\n",
        "    print('Could not find any MIDI files. Please check Dataset dir...')\n",
        "    print('=' * 70)\n",
        "\n",
        "print('Randomizing file list...')\n",
        "random.shuffle(filez)\n",
        "\n",
        "TMIDIX.Tegridy_Any_Pickle_File_Writer(filez, '/content/drive/MyDrive/filez')"
      ]
    },
    {
      "cell_type": "code",
      "execution_count": null,
      "metadata": {
        "cellView": "form",
        "id": "qI_adhjojrJ9"
      },
      "outputs": [],
      "source": [
        "#@title Load file list\n",
        "filez = TMIDIX.Tegridy_Any_Pickle_File_Reader('/content/drive/MyDrive/filez')"
      ]
    },
    {
      "cell_type": "markdown",
      "metadata": {
        "id": "FLxHvO-wlwfU"
      },
      "source": [
        "# (PROCESS)"
      ]
    },
    {
      "cell_type": "code",
      "execution_count": null,
      "metadata": {
        "id": "CeGo7CruaCJQ",
        "cellView": "form"
      },
      "outputs": [],
      "source": [
        "#@title Process MIDIs with TMIDIX MIDI processor\n",
        "\n",
        "print('=' * 70)\n",
        "print('TMIDIX MIDI Processor')\n",
        "print('=' * 70)\n",
        "print('Starting up...')\n",
        "print('=' * 70)\n",
        "\n",
        "###########\n",
        "\n",
        "START_FILE_NUMBER = 0\n",
        "LAST_SAVED_BATCH_COUNT = 0\n",
        "\n",
        "input_files_count = START_FILE_NUMBER\n",
        "files_count = LAST_SAVED_BATCH_COUNT\n",
        "\n",
        "melody_chords_f = [0, 0, 0, 0]\n",
        "\n",
        "stats = [0, 0, 0, 0, 0, 0, 0, 0, 0, 0, 0, 0, 0, 0, 0, 0]\n",
        "\n",
        "print('Processing MIDI files. Please wait...')\n",
        "print('=' * 70)\n",
        "\n",
        "for f in tqdm(filez[START_FILE_NUMBER:]):\n",
        "    try:\n",
        "        input_files_count += 1\n",
        "\n",
        "        fn = os.path.basename(f)\n",
        "\n",
        "        # Filtering out giant MIDIs\n",
        "        file_size = os.path.getsize(f)\n",
        "\n",
        "        if file_size < 200000:\n",
        "\n",
        "          #=======================================================\n",
        "          # START PROCESSING\n",
        "\n",
        "          # Convering MIDI to ms score with MIDI.py module\n",
        "          score = TMIDIX.midi2ms_score(open(f, 'rb').read())\n",
        "\n",
        "          # INSTRUMENTS CONVERSION CYCLE\n",
        "          events_matrix = []\n",
        "          itrack = 1\n",
        "          patches = [0, 0, 0, 0, 0, 0, 0, 0, 0, 0, 0, 0, 0, 0, 0, 0]\n",
        "\n",
        "          patch_map = [\n",
        "                      [0, 1, 2, 3, 4, 5, 6, 7], # Piano \n",
        "                      [24, 25, 26, 27, 28, 29, 30], # Guitar\n",
        "                      [32, 33, 34, 35, 36, 37, 38, 39], # Bass\n",
        "                      [40, 41], # Violin\n",
        "                      [42, 43], # Cello\n",
        "                      [46], # Harp\n",
        "                      [56, 57, 58, 59, 60], # Trumpet\n",
        "                      [64, 65, 66, 67, 68, 69, 70, 71], # Sax\n",
        "                      [72, 73, 74, 75, 76, 77, 78], # Flute\n",
        "                      [-1], # Drums\n",
        "                      [52, 53], # Choir\n",
        "                      [16, 17, 18, 19, 20] # Organ\n",
        "                      ]\n",
        "\n",
        "          while itrack < len(score):\n",
        "              for event in score[itrack]:         \n",
        "                  if event[0] == 'note' or event[0] == 'patch_change':\n",
        "                      events_matrix.append(event)\n",
        "              itrack += 1\n",
        "\n",
        "          events_matrix.sort(key=lambda x: x[1])\n",
        "\n",
        "          events_matrix1 = []\n",
        "\n",
        "          for event in events_matrix:\n",
        "                  if event[0] == 'patch_change':\n",
        "                      patches[event[2]] = event[3]\n",
        "\n",
        "                  if event[0] == 'note':\n",
        "                      event.extend([patches[event[3]]])\n",
        "                      once = False\n",
        "                      \n",
        "                      for p in patch_map:\n",
        "                          if event[6] in p and event[3] != 9: # Except the drums\n",
        "                              event[3] = patch_map.index(p)\n",
        "                              once = True\n",
        "                              \n",
        "                      if not once and event[3] != 9: # Except the drums\n",
        "                          event[3] = 15 # All other instruments/patches channel\n",
        "                          event[5] = max(80, event[5])\n",
        "                          \n",
        "                      if event[3] < 12: # We won't write chans 12-16 for now...\n",
        "                          events_matrix1.append(event)\n",
        "                          \n",
        "\n",
        "          #=======================================================\n",
        "          # PRE-PROCESSING\n",
        "\n",
        "          # checking number of instruments in a composition\n",
        "          instruments_list_without_drums = list(set([y[3] for y in events_matrix1 if y[3] != 9]))\n",
        "\n",
        "          if len(events_matrix1) > 0 and len(instruments_list_without_drums) > 0:\n",
        "\n",
        "            # recalculating timings\n",
        "            for e in events_matrix1:\n",
        "                e[1] = int(e[1] / 8) # Max 2 seconds for start-times\n",
        "                e[2] = int(e[2] / 16) # Max 4 seconds for durations\n",
        "\n",
        "            # Sorting by pitch, then by start-time\n",
        "            events_matrix1.sort(key=lambda x: x[4], reverse=True)\n",
        "            events_matrix1.sort(key=lambda x: x[1])\n",
        "\n",
        "            #=======================================================\n",
        "            # FINAL PRE-PROCESSING\n",
        "\n",
        "            melody_chords = []\n",
        "\n",
        "            pe = events_matrix1[0]\n",
        "      \n",
        "            for e in events_matrix1:\n",
        "              if e[1] >= 0 and e[2] >= 0:\n",
        "\n",
        "                # Cliping all values...\n",
        "                time = max(0, min(255, e[1]-pe[1]))             \n",
        "                dur = max(1, min(255, e[2]))\n",
        "                cha = max(0, min(11, e[3]))\n",
        "                ptc = max(1, min(127, e[4]))\n",
        "                vel = max(8, min(127, e[5]))\n",
        "\n",
        "                velocity = round(vel / 15)\n",
        "\n",
        "                # Writing final note \n",
        "                melody_chords.append([time, dur, cha, ptc, velocity])\n",
        "\n",
        "                pe = e\n",
        "\n",
        "            if len([y for y in melody_chords if y[2] != 9]) > 12: # Filtering out tiny/bad MIDIs...\n",
        "\n",
        "              times = [y[0] for y in melody_chords[12:]]\n",
        "              avg_time = sum(times) / len(times)\n",
        "                \n",
        "              times_list = list(set(times))\n",
        "              \n",
        "              instruments_list = list(set([y[2] for y in melody_chords]))\n",
        "              num_instr = len(instruments_list)\n",
        "\n",
        "              if avg_time < 96 and instruments_list != [9]: # Filtering out bad MIDIs...\n",
        "                if 0 in times_list: # Filtering out (mono) melodies MIDIs\n",
        "                  if len(melody_chords) > 1536:            \n",
        "\n",
        "                    #=======================================================\n",
        "                    # MAIN PROCESSING CYCLE\n",
        "                    #=======================================================\n",
        "                    \n",
        "                    mel_cho = []\n",
        "\n",
        "                    for m in melody_chords:\n",
        "                        \n",
        "                        # WRITING EACH NOTE HERE\n",
        "                        time = m[0]\n",
        "                        dur = m[1]\n",
        "                        cha_vel = (m[2] * 8) + (m[4]-1)\n",
        "                        cha_ptc = (m[2] * 128) + m[3]\n",
        "\n",
        "\n",
        "                        mel_cho.extend([time, dur+256, cha_vel+512, cha_ptc+608])\n",
        "\n",
        "                        stats[m[2]] += 1\n",
        "                        \n",
        "                    # TOTAL DICTIONARY SIZE 2144+1 = 2145\n",
        "\n",
        "                    #=======================================================\n",
        "                    # FINAL PROCESSING\n",
        "                    #=======================================================\n",
        "                    \n",
        "                    # Assembling overlapping batches (1024 notes prefix/context and 512 notes training sequence)\n",
        "                    \n",
        "                    num_batches = (len(mel_cho) // 2048) - 3\n",
        "                    \n",
        "                    for i in range(num_batches):\n",
        "                        \n",
        "                        melody_chords_f.extend(mel_cho[i*512*4:((i+1)*512*4)])\n",
        "                        melody_chords_f.extend(mel_cho[(i+1)*512*4:((i+2)*512*4)])\n",
        "                        melody_chords_f.extend(mel_cho[(i+2)*512*4:((i+3)*512*4)])\n",
        "                        \n",
        "                    #=======================================================\n",
        "\n",
        "                    # Processed files counter\n",
        "                    files_count += 1\n",
        "\n",
        "                    # Saving every 5000 processed files\n",
        "                    if files_count % 5000 == 0:\n",
        "                      print('SAVING !!!')\n",
        "                      print('=' * 70)\n",
        "                      print('Saving processed files...')\n",
        "                      print('=' * 70)\n",
        "                      print('Data check:', min(melody_chords_f), '===', max(melody_chords_f), '===', len(list(set(melody_chords_f))), '===', len(melody_chords_f))\n",
        "                      print('=' * 70)\n",
        "                      print('Processed so far:', files_count, 'out of', input_files_count, '===', files_count / input_files_count, 'good files ratio')\n",
        "                      print('=' * 70)\n",
        "                      count = str(files_count)\n",
        "                      TMIDIX.Tegridy_Any_Pickle_File_Writer(melody_chords_f, '/content/drive/MyDrive/LAKH_INTs_'+count)\n",
        "                      melody_chords_f = []\n",
        "                      print('=' * 70)\n",
        "        \n",
        "    except KeyboardInterrupt:\n",
        "        print('Saving current progress and quitting...')\n",
        "        break  \n",
        "\n",
        "    except Exception as ex:\n",
        "        print('WARNING !!!')\n",
        "        print('=' * 70)\n",
        "        print('Bad MIDI:', f)\n",
        "        print('Error detected:', ex)\n",
        "        print('=' * 70)\n",
        "        continue\n",
        "\n",
        "# Saving last processed files...\n",
        "print('=' * 70)\n",
        "print('Saving processed files...')\n",
        "print('=' * 70)\n",
        "print('Data check:', min(melody_chords_f), '===', max(melody_chords_f), '===', len(list(set(melody_chords_f))), '===', len(melody_chords_f))\n",
        "print('=' * 70)\n",
        "print('Processed so far:', files_count, 'out of', input_files_count, '===', files_count / input_files_count, 'good files ratio')\n",
        "print('=' * 70)\n",
        "count = str(files_count)\n",
        "TMIDIX.Tegridy_Any_Pickle_File_Writer(melody_chords_f, '/content/drive/MyDrive/LAKH_INTs_'+count)\n",
        "\n",
        "# Displaying resulting processing stats...\n",
        "print('=' * 70)\n",
        "print('Done!')   \n",
        "print('=' * 70)\n",
        "\n",
        "print('Resulting Stats:')\n",
        "print('=' * 70)\n",
        "print('Total good processed MIDI files:', files_count)\n",
        "print('=' * 70)\n",
        "\n",
        "print('Instruments stats:')\n",
        "print('=' * 70)\n",
        "print('Piano:', stats[0])\n",
        "print('Guitar:', stats[1])\n",
        "print('Bass:', stats[2])\n",
        "print('Violin:', stats[3])\n",
        "print('Cello:', stats[4])\n",
        "print('Harp:', stats[5])\n",
        "print('Trumpet:', stats[6])\n",
        "print('Sax:', stats[7])\n",
        "print('Flute:', stats[8])\n",
        "print('Drums:', stats[9])\n",
        "print('Choir:', stats[10])\n",
        "print('Organ:', stats[11])\n",
        "print('=' * 70)"
      ]
    },
    {
      "cell_type": "markdown",
      "metadata": {
        "id": "-ye9rNzOHX90"
      },
      "source": [
        "# (TEST INTS)"
      ]
    },
    {
      "cell_type": "code",
      "execution_count": null,
      "metadata": {
        "cellView": "form",
        "id": "zppMJ8gA3L4K"
      },
      "outputs": [],
      "source": [
        "#@title Test INTs\n",
        "\n",
        "train_data1 = melody_chords_f\n",
        "\n",
        "print('Sample INTs', train_data1[:15])\n",
        "\n",
        "out = train_data1[:200000]\n",
        "\n",
        "if len(out) != 0:\n",
        "    \n",
        "    song = out\n",
        "    song_f = []\n",
        "    time = 0\n",
        "    dur = 0\n",
        "    vel = 0\n",
        "    pitch = 0\n",
        "    channel = 0\n",
        "                    \n",
        "    for ss in song:\n",
        "      \n",
        "      if ss > 0 and ss < 256:\n",
        "\n",
        "          time += ss * 8\n",
        "        \n",
        "      if ss >= 256 and ss < 512:\n",
        "\n",
        "          dur = (ss-256) * 16\n",
        "\n",
        "      if ss >= 512 and ss < 608:\n",
        "\n",
        "          channel = (ss-512) // 8\n",
        "          vel = (((ss-512) % 8)+1) * 15\n",
        "              \n",
        "      if ss >= 608 and ss < 608+(12*128):\n",
        "          \n",
        "          pitch = (ss-608) % 128\n",
        "\n",
        "          song_f.append(['note', time, dur, channel, pitch, vel ])\n",
        "\n",
        "    detailed_stats = TMIDIX.Tegridy_SONG_to_MIDI_Converter(song_f,\n",
        "                                                        output_signature = 'Perceiver',  \n",
        "                                                        output_file_name = '/content/Perceiver-Music-Composition', \n",
        "                                                        track_name='Project Los Angeles',\n",
        "                                                        list_of_MIDI_patches=[0, 24, 32, 40, 42, 46, 56, 65, 73, 0, 53, 19, 0, 0, 0, 0],\n",
        "                                                        number_of_ticks_per_quarter=500)\n",
        "\n",
        "    print('Done!')"
      ]
    },
    {
      "cell_type": "markdown",
      "metadata": {
        "id": "YzCMd94Tu_gz"
      },
      "source": [
        "# Congrats! You did it! :)"
      ]
    }
  ],
  "metadata": {
    "colab": {
      "machine_shape": "hm",
      "private_outputs": true,
      "provenance": []
    },
    "gpuClass": "standard",
    "kernelspec": {
      "display_name": "Python 3 (ipykernel)",
      "language": "python",
      "name": "python3"
    },
    "language_info": {
      "codemirror_mode": {
        "name": "ipython",
        "version": 3
      },
      "file_extension": ".py",
      "mimetype": "text/x-python",
      "name": "python",
      "nbconvert_exporter": "python",
      "pygments_lexer": "ipython3",
      "version": "3.9.7"
    }
  },
  "nbformat": 4,
  "nbformat_minor": 0
}